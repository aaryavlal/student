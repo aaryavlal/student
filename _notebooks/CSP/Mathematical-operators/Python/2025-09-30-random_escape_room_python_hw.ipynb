{
 "cells": [
  {
   "cell_type": "raw",
   "id": "6e07d1a7",
   "metadata": {
    "vscode": {
     "languageId": "raw"
    }
   },
   "source": [
    "---\n",
    "layout: post\n",
    "title: \"Escape Room 3.15 - Hacks & Extensions\"\n",
    "description: \"Extended Python challenges and hacks for CSP 3.15 Escape Room - Random Values\"\n",
    "type: hacks\n",
    "toc: true\n",
    "comments: true\n",
    "permalink: /CSP/pythonHW/random-values\n",
    "author: Team Debuggers\n",
    "---\n"
   ]
  },
  {
   "cell_type": "markdown",
   "id": "9f874417",
   "metadata": {},
   "source": [
    "# 🚀 Escape Room Python Hacks\n"
   ]
  },
  {
   "cell_type": "markdown",
   "id": "7aedbe34",
   "metadata": {},
   "source": [
    "1. Simulate rolling two dice and show all possible sums of their outcomes."
   ]
  },
  {
   "cell_type": "code",
   "execution_count": 4,
   "id": "a73638bf",
   "metadata": {},
   "outputs": [
    {
     "name": "stdout",
     "output_type": "stream",
     "text": [
      "Die 1: 1, Die 2: 1, Sum: 2\n",
      "Die 1: 1, Die 2: 2, Sum: 3\n",
      "Die 1: 1, Die 2: 3, Sum: 4\n",
      "Die 1: 1, Die 2: 4, Sum: 5\n",
      "Die 1: 1, Die 2: 5, Sum: 6\n",
      "Die 1: 1, Die 2: 6, Sum: 7\n",
      "Die 1: 2, Die 2: 1, Sum: 3\n",
      "Die 1: 2, Die 2: 2, Sum: 4\n",
      "Die 1: 2, Die 2: 3, Sum: 5\n",
      "Die 1: 2, Die 2: 4, Sum: 6\n",
      "Die 1: 2, Die 2: 5, Sum: 7\n",
      "Die 1: 2, Die 2: 6, Sum: 8\n",
      "Die 1: 3, Die 2: 1, Sum: 4\n",
      "Die 1: 3, Die 2: 2, Sum: 5\n",
      "Die 1: 3, Die 2: 3, Sum: 6\n",
      "Die 1: 3, Die 2: 4, Sum: 7\n",
      "Die 1: 3, Die 2: 5, Sum: 8\n",
      "Die 1: 3, Die 2: 6, Sum: 9\n",
      "Die 1: 4, Die 2: 1, Sum: 5\n",
      "Die 1: 4, Die 2: 2, Sum: 6\n",
      "Die 1: 4, Die 2: 3, Sum: 7\n",
      "Die 1: 4, Die 2: 4, Sum: 8\n",
      "Die 1: 4, Die 2: 5, Sum: 9\n",
      "Die 1: 4, Die 2: 6, Sum: 10\n",
      "Die 1: 5, Die 2: 1, Sum: 6\n",
      "Die 1: 5, Die 2: 2, Sum: 7\n",
      "Die 1: 5, Die 2: 3, Sum: 8\n",
      "Die 1: 5, Die 2: 4, Sum: 9\n",
      "Die 1: 5, Die 2: 5, Sum: 10\n",
      "Die 1: 5, Die 2: 6, Sum: 11\n",
      "Die 1: 6, Die 2: 1, Sum: 7\n",
      "Die 1: 6, Die 2: 2, Sum: 8\n",
      "Die 1: 6, Die 2: 3, Sum: 9\n",
      "Die 1: 6, Die 2: 4, Sum: 10\n",
      "Die 1: 6, Die 2: 5, Sum: 11\n",
      "Die 1: 6, Die 2: 6, Sum: 12\n"
     ]
    }
   ],
   "source": [
    "# 🎲 Simulate rolling two dice and show all possible sums of their outcomes\n",
    "\n",
    "# Die faces: 1, 2, 3, 4, 5, 6\n",
    "for die1 in range(1, 7):\n",
    "    for die2 in range(1, 7):\n",
    "        print(f\"Die 1: {die1}, Die 2: {die2}, Sum: {die1 + die2}\")"
   ]
  },
  {
   "cell_type": "markdown",
   "id": "323ac43a",
   "metadata": {},
   "source": [
    "2. Create a fortune teller program. The response \"Try Again\" should appear 40% of the time, while the other possible responses are \"Yes\", \"No\", and \"Maybe\"."
   ]
  },
  {
   "cell_type": "code",
   "execution_count": 3,
   "id": "c608c7e8",
   "metadata": {},
   "outputs": [
    {
     "name": "stdout",
     "output_type": "stream",
     "text": [
      "Try Again\n"
     ]
    }
   ],
   "source": [
    "import random\n",
    "\n",
    "# 🔮 Fortune Teller\n",
    "\n",
    "# Generate a random number between 1 and 100\n",
    "num = random.randint(1, 100)\n",
    "\n",
    "# \"Try Again\" should appear 40% of the time\n",
    "if num <= 40:\n",
    "    print(\"Try Again\")\n",
    "elif num <= 65:  # 25% chance for \"Yes\"\n",
    "    print(\"Yes\")\n",
    "elif num <= 85:  # 20% chance for \"No\"\n",
    "    print(\"No\")\n",
    "else:  # 15% chance for \"Maybe\"\n",
    "    print(\"Maybe\")"
   ]
  },
  {
   "cell_type": "markdown",
   "id": "f5f6ad02",
   "metadata": {},
   "source": [
    "3. Create a program that randomly selects a meal from a menu list. For example: \"Pizza\", \"Burger\", \"Salad\", \"Pasta\", \"Sushi\"."
   ]
  },
  {
   "cell_type": "code",
   "execution_count": null,
   "id": "623d5cec",
   "metadata": {},
   "outputs": [],
   "source": [
    "import random\n",
    "\n",
    "# 🍔 Menu list of meals\n",
    "meals = [\"Pizza\", \"Burger\", \"Salad\", \"Pasta\", \"Sushi\"]\n",
    "\n",
    "# Pick one random meal from the list\n",
    "random_meal = random.choice(meals)\n",
    "print(\"Today's meal is:\", random_meal)"
   ]
  },
  {
   "cell_type": "markdown",
   "id": "e230199d",
   "metadata": {},
   "source": [
    "4. Practice using random.choice() and random.shuffle().\n",
    "\n",
    "- Use random.choice() to select one random card from a deck.\n",
    "\n",
    "- Use random.shuffle() to shuffle the entire deck."
   ]
  },
  {
   "cell_type": "code",
   "execution_count": null,
   "id": "9efcd451",
   "metadata": {},
   "outputs": [],
   "source": [
    "import random\n",
    "\n",
    "# 🃏 Deck of cards (simplified as numbers 1–10 for this example)\n",
    "deck = [1, 2, 3, 4, 5, 6, 7, 8, 9, 10]\n",
    "\n",
    "# Use random.choice() to pick one card\n",
    "random_card = random.choice(deck)\n",
    "print(\"Randomly picked card:\", random_card)\n",
    "\n",
    "# Use random.shuffle() to shuffle the deck and print it\n",
    "random.shuffle(deck)\n",
    "print(\"Shuffled deck:\", deck)"
   ]
  }
 ],
 "metadata": {
  "kernelspec": {
   "display_name": "Python 3",
   "language": "python",
   "name": "python3"
  },
  "language_info": {
   "codemirror_mode": {
    "name": "ipython",
    "version": 3
   },
   "file_extension": ".py",
   "mimetype": "text/x-python",
   "name": "python",
   "nbconvert_exporter": "python",
   "pygments_lexer": "ipython3",
   "version": "3.13.9"
  }
 },
 "nbformat": 4,
 "nbformat_minor": 5
}
