{
 "cells": [
  {
   "cell_type": "raw",
   "id": "4e3e77eb",
   "metadata": {
    "vscode": {
     "languageId": "raw"
    }
   },
   "source": [
    "---\n",
    "layout: post\n",
    "title: \"3.17 Algorithmic Efficiency Python Lesson\"\n",
    "categories: [Programming Fundamentals, Tutorial]\n",
    "tags: [python, javascript, algorithms, lesson, beginner]\n",
    "description: Learn about algorithms and how they can be more or less efficient\n",
    "permalink: /CSP/javascriptHW/algorithmic-efficiency\n",
    "---"
   ]
  },
  {
   "cell_type": "markdown",
   "id": "825f983c",
   "metadata": {},
   "source": [
    "## Algorithmic Efficiency Hacks: Javascript\n",
    "\n",
    "Let's test your knowledge on algorithmic efficiency!\n",
    "\n",
    "### Hack 1: How Much Time?\n",
    "\n",
    "#### Objective: write the time complexity of the algorithm below using Big-O notation.\n",
    "(don't worry about special cases such as n = 1 or n = 0)."
   ]
  },
  {
   "cell_type": "code",
   "execution_count": null,
   "id": "1fc4bcce",
   "metadata": {
    "vscode": {
     "languageId": "javascript"
    }
   },
   "outputs": [
    {
     "data": {
      "application/javascript": "let n = 10 // remember what O(n) means? This is a good way of visualizing n.\n\nfor (let i = 0; i < n * 2; i++) {\n    console.log(n);\n}\n\n//TODO: print the above algorithm's time complexity\n// BE CAREFUL - This one might trick some people. Remember that Big-O notation shows how much an algorithm's time complexity GROWS, so coefficients don't matter...\n",
      "text/plain": [
       "<IPython.core.display.Javascript object>"
      ]
     },
     "metadata": {},
     "output_type": "display_data"
    }
   ],
   "source": [
    "%%javascript\n",
    "let n = 10; // change this value to test different outputs!\n",
    "\n",
    "for (let i = 0; i < n * 2; i++) {\n",
    "    console.log(i);\n",
    "}\n",
    "\n",
    "console.log(\"Time Complexity: O(n)\");"
   ]
  },
  {
   "cell_type": "markdown",
   "id": "4e562838",
   "metadata": {},
   "source": [
    "### Hack 2: Your Turn!\n",
    "\n",
    "#### Objective: <strong>write</strong> an algorithm with O(n^2) time complexity."
   ]
  },
  {
   "cell_type": "code",
   "execution_count": null,
   "id": "f9394969",
   "metadata": {
    "vscode": {
     "languageId": "javascript"
    }
   },
   "outputs": [],
   "source": [
    "%%javascript\n",
    "const n = 10; // change this if you want.\n",
    "\n",
    "for (let i = 0; i < n; i++) {\n",
    "    for (let j = 0; j < n; j++) {\n",
    "        console.log(i, j);\n",
    "    }\n",
    "}"
   ]
  },
  {
   "cell_type": "markdown",
   "id": "26d353f3",
   "metadata": {},
   "source": [
    "### Hack 3: Gotta Go Fast!\n",
    "\n",
    "#### Objective: Optimize this algorithm so that it has a lower time complexity <strong>without modifying the outer loop</strong>"
   ]
  },
  {
   "cell_type": "code",
   "execution_count": null,
   "id": "83acbe82",
   "metadata": {
    "vscode": {
     "languageId": "javascript"
    }
   },
   "outputs": [
    {
     "data": {
      "application/javascript": "const n = 10; // change this\nlet count = 0;\n\nfor(let i = 0; i < n; i++){ //Outer loop, DO NOT MODIFY\n    for(let j = 0; j < i; j++){\n        count ++;\n    }\n}\nconsole.log(count);\n\n//TODO: Modify the algorithm so that it has a lower time complexity but same output, and keep the outer loop the same\n//Hint: This algorithm has a time complexity of O(n^2).\n",
      "text/plain": [
       "<IPython.core.display.Javascript object>"
      ]
     },
     "metadata": {},
     "output_type": "display_data"
    }
   ],
   "source": [
    "%%javascript\n",
    "const n = 10; // change this\n",
    "let count = 0;\n",
    "\n",
    "for (let i = 0; i < n; i++) { //Outer loop, DO NOT MODIFY\n",
    "    count += i;\n",
    "}\n",
    "console.log(count);"
   ]
  },
  {
   "cell_type": "markdown",
   "id": "e6e45a7b",
   "metadata": {},
   "source": [
    "### Hack 4: Extra Challenge (you might also get extra credit for this one so u should do it)\n",
    "\n",
    "#### Objective: Write an algorithm with a time complexity of O(n*log(n))."
   ]
  },
  {
   "cell_type": "code",
   "execution_count": null,
   "id": "87c33c6e",
   "metadata": {},
   "outputs": [],
   "source": [
    "%%javascript\n",
    "const n = 10;\n",
    "\n",
    "function mergeSort(arr) {\n",
    "    if (arr.length <= 1) return arr;\n",
    "\n",
    "    const mid = Math.floor(arr.length / 2);\n",
    "    const left = mergeSort(arr.slice(0, mid));\n",
    "    const right = mergeSort(arr.slice(mid));\n",
    "\n",
    "    return merge(left, right);\n",
    "}\n",
    "\n",
    "function merge(left, right) {\n",
    "    let result = [];\n",
    "    let i = 0, j = 0;\n",
    "\n",
    "    while (i < left.length && j < right.length) {\n",
    "        if (left[i] < right[j]) {\n",
    "            result.push(left[i]);\n",
    "            i++;\n",
    "        } else {\n",
    "            result.push(right[j]);\n",
    "            j++;\n",
    "        }\n",
    "    }\n",
    "\n",
    "    return result.concat(left.slice(i)).concat(right.slice(j));\n",
    "}\n",
    "\n",
    "const arr = Array.from({ length: n }, (_, i) => n - i);\n",
    "console.log(mergeSort(arr));"
   ]
  }
 ],
 "metadata": {
  "kernelspec": {
   "display_name": "Python 3",
   "language": "python",
   "name": "python3"
  },
  "language_info": {
   "codemirror_mode": {
    "name": "ipython",
    "version": 3
   },
   "file_extension": ".py",
   "mimetype": "text/x-python",
   "name": "python",
   "nbconvert_exporter": "python",
   "pygments_lexer": "ipython3",
   "version": "3.12.3"
  }
 },
 "nbformat": 4,
 "nbformat_minor": 5
}
