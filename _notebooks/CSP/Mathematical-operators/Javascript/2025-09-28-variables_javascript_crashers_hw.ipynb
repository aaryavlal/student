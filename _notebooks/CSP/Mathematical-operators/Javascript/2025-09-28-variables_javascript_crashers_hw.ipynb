{
 "cells": [
  {
   "cell_type": "raw",
   "id": "f7d70aa2",
   "metadata": {
    "vscode": {
     "languageId": "raw"
    }
   },
   "source": [
    "---\n",
    "layout: post\n",
    "title: \"3.1 Variables & Assignments hacks\"\n",
    "categories: [Programming Fundamentals, Tutorial]\n",
    "tags: [python, javascript, variables, assignment, beginner]\n",
    "description: Apply your understanding of Variables & Assignments with these hacks\n",
    "author: Aditya Srivastava, Laya Balaji\n",
    "permalink: /CSP/javascriptHW/variables\n",
    "---"
   ]
  },
  {
   "cell_type": "markdown",
   "id": "ce56910b",
   "metadata": {},
   "source": [
    "# 🐷 Peppa Maze Variables & Assignments Hacks\n",
    "Welcome to the Peppa Maze hacks! These challenges will test your understanding of variables, assignments, and logic in Javascript. Read each task, then write or modify code to solve it."
   ]
  },
  {
   "cell_type": "markdown",
   "id": "7dee3bb5",
   "metadata": {},
   "source": [
    "## Hack 1: JavaScript - Variable Assignment, Naming, and Operators\n",
    "Create variables for Peppa's name, score, and level using good JavaScript naming conventions. Assign initial values, then use operators to update score (add 10) and level (multiply by 2). Print all results."
   ]
  },
  {
   "cell_type": "code",
   "execution_count": 1,
   "id": "e4bee113",
   "metadata": {},
   "outputs": [
    {
     "data": {
      "application/javascript": "\nlet name = peppa;\nlet score = 67;\nlet level = 41;\n\nscore += 10;\nlevel *= 2;\n\nconsole.log(\"Name: \" + name);\nconsole.log(\"Score: \" + score);\nconsole.log(\"Level: \" + level);\n",
      "text/plain": [
       "<IPython.core.display.Javascript object>"
      ]
     },
     "metadata": {},
     "output_type": "display_data"
    }
   ],
   "source": [
    "%%javascript\n",
    "\n",
    "let name = peppa;\n",
    "let score = 67;\n",
    "let level = 41;\n",
    "\n",
    "score += 10;\n",
    "level *= 2;\n",
    "\n",
    "console.log(\"Name: \" + name);\n",
    "console.log(\"Score: \" + score);\n",
    "console.log(\"Level: \" + level);"
   ]
  },
  {
   "cell_type": "markdown",
   "id": "3f8a5cbe",
   "metadata": {},
   "source": [
    "## Hack 2: JavaScript - Variable Declaration, Assignment, and Operators\n",
    "Declare variables for Peppa and George's scores using good JavaScript naming conventions. Assign initial values, then use operators to update both scores (e.g., Peppa gets 15 points, George loses 5 points). Print both scores."
   ]
  },
  {
   "cell_type": "code",
   "execution_count": null,
   "id": "c4c80df3",
   "metadata": {
    "vscode": {
     "languageId": "javascript"
    }
   },
   "outputs": [],
   "source": [
    "let peppaScore = 67;\n",
    "let georgeScore = 41;\n",
    "\n",
    "peppaScore += 15;\n",
    "georgeScore -= 9;\n",
    "\n",
    "console.log(peppaScore);\n",
    "console.log(georgeScore);"
   ]
  },
  {
   "cell_type": "markdown",
   "id": "30580c24",
   "metadata": {},
   "source": [
    "## Hack 3: JavaScript - Multiple Assignment and Math Operators\n",
    "Peppa and George both start at level 1. Use a single line to assign both their levels to 5. Then, calculate a combined score by multiplying their levels together and multiplying by 10. Print all results."
   ]
  },
  {
   "cell_type": "code",
   "execution_count": 3,
   "id": "67774ff3",
   "metadata": {},
   "outputs": [
    {
     "data": {
      "application/javascript": "\nlet peppaScore = 1;\nlet georgeScore = 1;\n\npeppaScore && georgeScore == 5; \nlet finalScore = (peppaScore * georgeScore) *10; \nconsole.log(finalScore);\n",
      "text/plain": [
       "<IPython.core.display.Javascript object>"
      ]
     },
     "metadata": {},
     "output_type": "display_data"
    }
   ],
   "source": [
    "%%javascript\n",
    "\n",
    "let peppaScore = 1;\n",
    "let georgeScore = 1;\n",
    "\n",
    "peppaScore && georgeScore == 5; \n",
    "let finalScore = (peppaScore * georgeScore) *10; \n",
    "console.log(finalScore);"
   ]
  }
 ],
 "metadata": {
  "kernelspec": {
   "display_name": "Python 3",
   "language": "python",
   "name": "python3"
  },
  "language_info": {
   "codemirror_mode": {
    "name": "ipython",
    "version": 3
   },
   "file_extension": ".py",
   "mimetype": "text/x-python",
   "name": "python",
   "nbconvert_exporter": "python",
   "pygments_lexer": "ipython3",
   "version": "3.13.7"
  }
 },
 "nbformat": 4,
 "nbformat_minor": 5
}
