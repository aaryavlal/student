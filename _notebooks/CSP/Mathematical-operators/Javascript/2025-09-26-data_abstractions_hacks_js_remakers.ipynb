{
 "cells": [
  {
   "cell_type": "raw",
   "id": "e4102f0e",
   "metadata": {
    "vscode": {
     "languageId": "raw"
    }
   },
   "source": [
    "---\n",
    "toc: true\n",
    "comments: false\n",
    "layout: post\n",
    "categories: [CSP Big Idea 3]\n",
    "title: 3.2 Data Abstractions JS Hack\n",
    "author: Jaynee Chauhan, Michelle Ji, Lucas Masterson\n",
    "description: Hack(s) for intro to data abstractions in JS.\n",
    "type: ccc\n",
    "permalink: /CSP/javascriptHW/data_abstractions\n",
    "---"
   ]
  },
  {
   "cell_type": "markdown",
   "id": "690b4172",
   "metadata": {},
   "source": [
    "## JS Lab: Library\n",
    "\n",
    "In this lab, similarly to the Python lab, you'll be working on a simple \"database\" for a library to understand CRUD operations in relation to representing redundant, similar data under one structure -- an abstraction.\n",
    "\n",
    "For JavaScript, you'll have to open the web console from Developer Tools (`ctrl + shift + p` -> `Developer: Toggle developer tools`)."
   ]
  },
  {
   "cell_type": "code",
   "execution_count": null,
   "id": "d7228dda",
   "metadata": {
    "vscode": {
     "languageId": "javascript"
    }
   },
   "outputs": [],
   "source": [
    "// Our \"database\" is an array of objects, each representing a book in a library.\n",
    "// Arrays allow us to store multiple records in a single variable, making it easy to manage collections of data.\n",
    "let library = [\n",
    "    { title: \"1984\", author: \"George Orwell\", checkedOut: false },\n",
    "    { title: \"To Kill a Mockingbird\", author: \"Harper Lee\", checkedOut: true },\n",
    "    { title: \"The Great Gatsby\", author: \"F. Scott Fitzgerald\", checkedOut: false }\n",
    "];\n",
    "\n",
    "// Arrays provide order and allow us to add, remove, or update records efficiently.\n",
    "// Each element in the array is an object, which abstracts the details of each book.\n",
    "\n",
    "// Function to display all books\n",
    "function displayLibrary(lib) {\n",
    "    console.log(\"All books in the library:\");\n",
    "    lib.forEach((book, i) => {\n",
    "        console.log(`Index ${i}:`, book);\n",
    "    });\n",
    "}\n",
    "\n",
    "// Function to add a new book (students: implement prompt and push logic)\n",
    "function addBook(lib) {\n",
    "    // Prompt user for title, author, and checkedOut status, then push to library (array)\n",
    "    let title = prompt(\"Enter the book title:\");\n",
    "    let author = prompt(\"Enter the author:\");\n",
    "    let checkedOutInput = prompt(\"Is the book checked out? (yes/no):\");\n",
    "    let checkedOut = checkedOutInput && checkedOutInput.toLowerCase().startsWith(\"y\");\n",
    "    let newBook = { title: title, author: author, checkedOut: checkedOut };\n",
    "    lib.push(newBook);\n",
    "    console.log(\"Book added:\", newBook);\n",
    "}\n",
    "\n",
    "// Function to find a book by title (students: implement search logic)\n",
    "function findBook(lib, searchTitle) {\n",
    "    // Search for a book with matching title and print it\n",
    "    let found = false;\n",
    "    lib.forEach((book, i) => {\n",
    "        if (book.title.toLowerCase() === searchTitle.toLowerCase()) {\n",
    "            console.log(`Found at index ${i}:`, book);\n",
    "            found = true;\n",
    "        }\n",
    "    });\n",
    "    if (!found) {\n",
    "        console.log(`No book found with title: ${searchTitle}`);\n",
    "    }\n",
    "}\n",
    "\n",
    "// Function to update a book's checkedOut status (students: implement update logic)\n",
    "function updateBook(lib, searchTitle) {\n",
    "    // Find book by title and update its checkedOut field\n",
    "    for (let i = 0; i < lib.length; i++) {\n",
    "        if (lib[i].title.toLowerCase() === searchTitle.toLowerCase()) {\n",
    "            let checkedOutInput = prompt(`Is \"${lib[i].title}\" checked out? (yes/no):`);\n",
    "            lib[i].checkedOut = checkedOutInput && checkedOutInput.toLowerCase().startsWith(\"y\");\n",
    "            console.log(`Updated book at index ${i}:`, lib[i]);\n",
    "            return;\n",
    "        }\n",
    "    }\n",
    "    console.log(`No book found with title: ${searchTitle}`);\n",
    "}\n",
    "\n",
    "// Function to delete a book (students: implement delete logic)\n",
    "function deleteBook(lib, searchTitle) {\n",
    "    // Remove book with matching title from library\n",
    "    for (let i = 0; i < lib.length; i++) {\n",
    "        if (lib[i].title.toLowerCase() === searchTitle.toLowerCase()) {\n",
    "            let removed = lib.splice(i, 1)[0];\n",
    "            console.log(\"Deleted book:\", removed);\n",
    "            return;\n",
    "        }\n",
    "    }\n",
    "    console.log(`No book found with title: ${searchTitle}`);\n",
    "}\n",
    "\n",
    "// Example usage\n",
    "displayLibrary(library);\n",
    "// Uncomment and use these as you test:\n",
    "// addBook(library);\n",
    "// findBook(library, \"1984\");\n",
    "// updateBook(library, \"To Kill a Mockingbird\");\n",
    "// deleteBook(library, \"The Great Gatsby\");"
   ]
  }
 ],
 "metadata": {
  "kernelspec": {
   "display_name": "venv",
   "language": "python",
   "name": "python3"
  },
  "language_info": {
   "codemirror_mode": {
    "name": "ipython",
    "version": 3
   },
   "file_extension": ".py",
   "mimetype": "text/x-python",
   "name": "python",
   "nbconvert_exporter": "python",
   "pygments_lexer": "ipython3",
   "version": "3.13.7"
  }
 },
 "nbformat": 4,
 "nbformat_minor": 5
}
