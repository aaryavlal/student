{
 "cells": [
  {
   "cell_type": "raw",
   "id": "347e901f",
   "metadata": {
    "vscode": {
     "languageId": "raw"
    }
   },
   "source": [
    "---\n",
    "toc: true\n",
    "layout: post\n",
    "categories: [JavaScript]\n",
    "title: Remakers - 3.13 Developing Procedures JS Hacks\n",
    "description: \"Apply your skills to basic procedure development in Javascript.\"\n",
    "permalink: /CSP/javascriptHW/developing-procedures\n",
    "author: Krishna Visvanath, Sloane Sommers\n",
    "---"
   ]
  },
  {
   "cell_type": "raw",
   "id": "38483feb",
   "metadata": {
    "vscode": {
     "languageId": "raw"
    }
   },
   "source": [
    "### Q1 (Easy)\n",
    "Which of these procedures is named wrong, provide a **short** explanation of justification"
   ]
  },
  {
   "cell_type": "code",
   "execution_count": 3,
   "id": "690e6f19",
   "metadata": {},
   "outputs": [
    {
     "data": {
      "application/javascript": "\nfunction mixIngredients() {\n    console.log(\"Mixing ingredients.\");\n}\n\nfunction doIt() {\n    console.log(\"Doing it.\");\n}\n\nfunction makeLeftTurn() {\n    console.log(\"Making a left turn.\");\n}\n",
      "text/plain": [
       "<IPython.core.display.Javascript object>"
      ]
     },
     "metadata": {},
     "output_type": "display_data"
    }
   ],
   "source": [
    "%%js\n",
    "\n",
    "function mixIngredients() {\n",
    "    console.log(\"Mixing ingredients.\");\n",
    "}\n",
    "\n",
    "function doIt() {\n",
    "    console.log(\"Doing it.\");\n",
    "}\n",
    "\n",
    "function makeLeftTurn() {\n",
    "    console.log(\"Making a left turn.\");\n",
    "}"
   ]
  },
  {
   "cell_type": "markdown",
   "id": "bff45a3e",
   "metadata": {},
   "source": [
    "**Explanation Here:**\n",
    "__ is right because.."
   ]
  },
  {
   "cell_type": "markdown",
   "id": "e5480b09",
   "metadata": {},
   "source": [
    "### Q2 (Medium)\n",
    "Finish the code to have a correctly named procedure"
   ]
  },
  {
   "cell_type": "code",
   "execution_count": 2,
   "id": "4bc531e4",
   "metadata": {
    "vscode": {
     "languageId": "javascript"
    }
   },
   "outputs": [
    {
     "data": {
      "application/javascript": "function moveForward() {\n    console.log(\"Moving forward.\");\n}\n\nfunction rotate180() {\n    console.log(\"Turning left.\");\n}\n\nfunction moveForwardAgain() {\n    console.log(\"Moving forward again to complete left turn.\");\n}\n\nfunction makeLeftTurn() {\n    moveForward();\n    rotate180();\n    moveForwardAgain();\n}\n\nmakeLeftTurn();\n",
      "text/plain": [
       "<IPython.core.display.Javascript object>"
      ]
     },
     "metadata": {},
     "output_type": "display_data"
    }
   ],
   "source": [
    "%%js\n",
    "function moveForward() {\n",
    "    console.log(\"Moving forward.\");\n",
    "}\n",
    "\n",
    "function rotate180() {\n",
    "    console.log(\"Turning left.\");\n",
    "}\n",
    "\n",
    "function moveForwardAgain() {\n",
    "    console.log(\"Moving forward again to complete left turn.\");\n",
    "}\n",
    "\n",
    "function makeLeftTurn() {\n",
    "    moveForward();\n",
    "    rotate180();\n",
    "    moveForwardAgain();\n",
    "}\n",
    "\n",
    "makeLeftTurn();"
   ]
  },
  {
   "cell_type": "code",
   "execution_count": null,
   "id": "d6c06eb0",
   "metadata": {
    "vscode": {
     "languageId": "javascript"
    }
   },
   "outputs": [],
   "source": [
    "### Q3 (Hard)\n",
    "Write code to fulfill the requirements\n",
    "Doing a dance! 🕺💃\n",
    "Must have\n",
    "1. A shimmy left procedure\n",
    "- Print `super cool left slide`\n",
    "2. A shimmy right procedure, print `even cooler right slide`\n",
    "3. Doing a bow to the crowd, print `Great dance!`, `the audience claps at your bow!`"
   ]
  },
  {
   "cell_type": "code",
   "execution_count": 1,
   "id": "818139d1",
   "metadata": {
    "vscode": {
     "languageId": "javascript"
    }
   },
   "outputs": [
    {
     "data": {
      "application/javascript": "function shimmyLeft() {\n    console.log(\"super cool left slide\");\n}\n\nfunction shimmyRight() {\n    console.log(\"even cooler right slide\");\n}\n\nfunction bowToCrowd() {\n    console.log(\"Great dance!\");\n    console.log(\"The audience claps at your bow!\");\n}\n\nshimmyLeft();\nshimmyRight();\nbowToCrowd();//Code away!\n",
      "text/plain": [
       "<IPython.core.display.Javascript object>"
      ]
     },
     "metadata": {},
     "output_type": "display_data"
    }
   ],
   "source": [
    "%%js\n",
    "function shimmyLeft() {\n",
    "    console.log(\"super cool left slide\");\n",
    "}\n",
    "\n",
    "function shimmyRight() {\n",
    "    console.log(\"even cooler right slide\");\n",
    "}\n",
    "\n",
    "function bowToCrowd() {\n",
    "    console.log(\"Great dance!\");\n",
    "    console.log(\"The audience claps at your bow!\");\n",
    "}\n",
    "\n",
    "shimmyLeft();\n",
    "shimmyRight();\n",
    "bowToCrowd();//Code away!"
   ]
  }
 ],
 "metadata": {
  "kernelspec": {
   "display_name": "Python 3",
   "language": "python",
   "name": "python3"
  },
  "language_info": {
   "codemirror_mode": {
    "name": "ipython",
    "version": 3
   },
   "file_extension": ".py",
   "mimetype": "text/x-python",
   "name": "python",
   "nbconvert_exporter": "python",
   "pygments_lexer": "ipython3",
   "version": "3.13.9"
  }
 },
 "nbformat": 4,
 "nbformat_minor": 5
}
